{
 "cells": [
  {
   "cell_type": "code",
   "execution_count": 3,
   "id": "16f87a76-c154-42f3-a53f-ddb449f26f05",
   "metadata": {},
   "outputs": [
    {
     "name": "stdout",
     "output_type": "stream",
     "text": [
      "SLLIKSWP\n"
     ]
    }
   ],
   "source": [
    "\"\"\" \n",
    "1. Write a code to reverse a string?\n",
    "\"\"\"\n",
    "str=\"PWSKILLS\" \n",
    "print(str[::-1])"
   ]
  },
  {
   "cell_type": "code",
   "execution_count": 6,
   "id": "271ddf15-6dd0-49f5-87f3-75b535f88cc4",
   "metadata": {},
   "outputs": [
    {
     "name": "stdout",
     "output_type": "stream",
     "text": [
      "5\n"
     ]
    }
   ],
   "source": [
    "\"\"\"\n",
    "2. Write a code to count the number of vowels in a string?\n",
    "\"\"\"\n",
    "str=\" This is a new string\"\n",
    "count=0\n",
    "vowel=\"aeiouAEIOU\"\n",
    "for i in str:\n",
    "    if i in vowel:\n",
    "        count=count+1\n",
    "print(count)"
   ]
  },
  {
   "cell_type": "code",
   "execution_count": 16,
   "id": "183e4d09-c091-430b-bebd-2be337839c31",
   "metadata": {},
   "outputs": [
    {
     "name": "stdin",
     "output_type": "stream",
     "text": [
      "Enter a String : MADAM\n"
     ]
    },
    {
     "name": "stdout",
     "output_type": "stream",
     "text": [
      "The given string MADAM is a Palindrom\n"
     ]
    }
   ],
   "source": [
    "\"\"\"\n",
    "3. Write a code to check if a given string is a palindrome or not?\n",
    "Palendrome means A string is said to be a palindrome if the reverse of the string is the same as the string\n",
    "\"\"\"\n",
    "str= input(\"Enter a String :\")\n",
    "rever=\"\"\n",
    "for i in str:\n",
    "    rever=i+rever\n",
    "if (str==rever):\n",
    "    print(f\"The given string {rever} is a Palindrom\")\n",
    "else:\n",
    "    print(f\"The given string {rever} is not a Palindrome\")"
   ]
  },
  {
   "cell_type": "code",
   "execution_count": 14,
   "id": "f3a0e204-57be-4196-91a4-bd048aec5e3e",
   "metadata": {},
   "outputs": [
    {
     "name": "stdin",
     "output_type": "stream",
     "text": [
      "Enter String1 : dat\n",
      "Enter String2 : tad\n"
     ]
    },
    {
     "name": "stdout",
     "output_type": "stream",
     "text": [
      "The strings are anagrams.\n"
     ]
    }
   ],
   "source": [
    "\"\"\"4 Write a code to check if two given strings are anagrams of each other?\n",
    "An anagram of a string is another string that contains the same characters,\n",
    "only the order of characters can be different. For example, “act” and “tac” are anagrams of each other.\n",
    "eg Listen, Silent , act infact,\n",
    "\"\"\"\n",
    "s1 = input(\"Enter String1 :\")\n",
    "s2 = input(\"Enter String2 :\")\n",
    "char_list_1 = list(s1)\n",
    "char_list_2 = list(s2)\n",
    "char_count = {}\n",
    "for char in char_list_1:\n",
    "    if char not in char_count:\n",
    "           char_count[char] = 0\n",
    "    char_count[char] += 1\n",
    "for char in char_list_2:\n",
    "    if char not in char_count:\n",
    "        print(\"The strings are not anagrams.\")\n",
    "        break\n",
    "    char_count[char] -= 1\n",
    "\n",
    "else:\n",
    "    for count in char_count.values():\n",
    "        if count != 0:\n",
    "            print(\"The strings are not anagrams.\")\n",
    "            break\n",
    "    else:\n",
    "        print(\"The strings are anagrams.\")"
   ]
  },
  {
   "cell_type": "code",
   "execution_count": 23,
   "id": "acdff3e6-d432-4330-99f9-9a81986a46a0",
   "metadata": {},
   "outputs": [
    {
     "name": "stdout",
     "output_type": "stream",
     "text": [
      "0\n",
      "12\n",
      "The no of occurrences is  2\n"
     ]
    }
   ],
   "source": [
    "\"\"\"5 Write a code to find all occurrences of a given stubstring within another stirng?\n",
    "\"\"\"\n",
    "str1=\"hello world hello\"\n",
    "str2=\"hello\"\n",
    "count=0\n",
    "for i in range (len(str1)):\n",
    "     if str1.startswith(str2,i):\n",
    "        count=count+1\n",
    "        print(i)\n",
    "print(\"The no of occurrences is \",count)"
   ]
  },
  {
   "cell_type": "code",
   "execution_count": 152,
   "id": "8c6b276a-ae77-4497-a7b1-cd1cc5c1d81d",
   "metadata": {},
   "outputs": [
    {
     "name": "stdout",
     "output_type": "stream",
     "text": [
      "a6b2c1d2n2k1o1"
     ]
    }
   ],
   "source": [
    "\"\"\"6. Write a code to perform basic string compression using the counts of repeated characters?\n",
    "\n",
    "\"\"\"\n",
    "s=\"aabbcdaanakonda\"\n",
    "s1=list(s)\n",
    "s2=list(dict.fromkeys(s1))\n",
    "for i in s2:\n",
    "     print(i + str((s1.count(i))), end =\"\")"
   ]
  },
  {
   "cell_type": "code",
   "execution_count": 163,
   "id": "3121a6be-2524-4ef5-934e-bc6a2e31ca48",
   "metadata": {},
   "outputs": [
    {
     "name": "stdin",
     "output_type": "stream",
     "text": [
      "Enter the string abcda\n"
     ]
    },
    {
     "name": "stdout",
     "output_type": "stream",
     "text": [
      " This is not unique\n"
     ]
    }
   ],
   "source": [
    "\"\"\"\n",
    "7/ Write a code to determine if a string has all unique characters?\n",
    "\"\"\"\n",
    "string=input(\"Enter the string\")\n",
    "unique_characters=[]\n",
    "count=0\n",
    "for character in string:\n",
    "    count=count+1\n",
    "    if character in unique_characters:\n",
    "        print(\" This is not unique\")\n",
    "    else:\n",
    "        unique_characters.append(character)\n",
    "if len(unique_characters)==count:\n",
    "    print(\" This string has unique Characters\")"
   ]
  },
  {
   "cell_type": "code",
   "execution_count": 1,
   "id": "92e7f39a-f675-4520-beb9-3e971ae9156f",
   "metadata": {},
   "outputs": [
    {
     "name": "stdin",
     "output_type": "stream",
     "text": [
      "Enter a string abc\n"
     ]
    },
    {
     "name": "stdout",
     "output_type": "stream",
     "text": [
      "ABC\n",
      "abc\n"
     ]
    }
   ],
   "source": [
    "\"\"\"8. Write a code to convdert a given string to uppercase or lowercase\n",
    "\"\"\"\n",
    "s=input(\"Enter a string\")\n",
    "print(s.upper())\n",
    "print(s.lower())"
   ]
  },
  {
   "cell_type": "code",
   "execution_count": 8,
   "id": "54bb57dc-c1f6-4eec-8109-098088385608",
   "metadata": {},
   "outputs": [
    {
     "name": "stdin",
     "output_type": "stream",
     "text": [
      "enter a string : | this is to count the number of words in a string\n"
     ]
    },
    {
     "name": "stdout",
     "output_type": "stream",
     "text": [
      "11\n"
     ]
    }
   ],
   "source": [
    "\"\"\"\n",
    "9. Write a code tocount he number of words in a string\n",
    "\"\"\"\n",
    "s=input(\"enter a string : |\")\n",
    "count=len(s.split())\n",
    "print(count)"
   ]
  },
  {
   "cell_type": "code",
   "execution_count": 19,
   "id": "718c5eb6-b299-48ad-9dc0-d17fca732a33",
   "metadata": {},
   "outputs": [
    {
     "name": "stdout",
     "output_type": "stream",
     "text": [
      "This course is Python programming\n"
     ]
    }
   ],
   "source": [
    "\"\"\"\n",
    "10. Write a code to concatenate two strings without using the + operator\n",
    "\"\"\"\n",
    "str1=\"This course is\"\n",
    "str2=\"Python programming\"\n",
    "two_strings=\" \".join([str1,str2])\n",
    "print(two_strings)"
   ]
  },
  {
   "cell_type": "code",
   "execution_count": 26,
   "id": "7e10aa42-741d-4097-8a78-753906ba89e8",
   "metadata": {},
   "outputs": [
    {
     "name": "stdout",
     "output_type": "stream",
     "text": [
      "['b', 'c', 'c', 'd']\n"
     ]
    }
   ],
   "source": [
    "\"\"\"11. Write a code to remove all occurrences of a specific element from a list\n",
    "\"\"\"\n",
    "lis=[\"a\",\"b\",\"c\",\"a\",\"c\",\"d\"]\n",
    "lis2=\"a\"\n",
    "for i in lis:\n",
    "    if lis2==i:\n",
    "        lis.remove(lis2)\n",
    "print(lis)"
   ]
  },
  {
   "cell_type": "code",
   "execution_count": 43,
   "id": "320ea227-d9f4-429d-9432-9e6f7ab05774",
   "metadata": {},
   "outputs": [
    {
     "name": "stdout",
     "output_type": "stream",
     "text": [
      "The second largest number is :  30\n"
     ]
    }
   ],
   "source": [
    "\"\"\"\n",
    "12. Implement a code to find the second largest number in a given list of integerts\n",
    "We can also write to find out the max value ane remove max value to print the next highest value\n",
    "\"\"\"\n",
    "c=[]\n",
    "num1=[1,2,3,4,30,20,40]\n",
    "num1.sort()\n",
    "print(\"The second largest number is : \", num1[-2])"
   ]
  },
  {
   "cell_type": "code",
   "execution_count": 82,
   "id": "f16628ea-d0f3-427d-99a3-4624c9d1057a",
   "metadata": {},
   "outputs": [
    {
     "name": "stdout",
     "output_type": "stream",
     "text": [
      "{'a': 1, 'b': 2}\n"
     ]
    }
   ],
   "source": [
    "\"\"\"\n",
    "13. Create a code to count the occurrences of each element in a list and return a dictioary with elements as keys and their counts as values\"\"\"\n",
    "elements=[1,2,3,4,1,1,1,10,10]\n",
    "l = [\"a\",\"b\",\"b\"]\n",
    "y=[[x,l.count(x)] for x in set(l)]\n",
    "print(dict(y))\n",
    "            "
   ]
  },
  {
   "cell_type": "code",
   "execution_count": 102,
   "id": "bfb4fdd9-8f26-44a8-a1f1-28b368bbcdb9",
   "metadata": {},
   "outputs": [
    {
     "name": "stdout",
     "output_type": "stream",
     "text": [
      "[5, 4, 3, 2, 1]\n"
     ]
    }
   ],
   "source": [
    "\"\"\"\n",
    "14. Write a code to reverse a list in place without using any built in reverse functions\n",
    "\"\"\"\n",
    "a = [1, 2, 3, 4, 5]\n",
    "res = []\n",
    "for val in a:\n",
    "    res.insert(0, val)\n",
    "print(res)  \n",
    "\n"
   ]
  },
  {
   "cell_type": "code",
   "execution_count": 105,
   "id": "3f85dd4f-9a8a-46a9-8269-aa461f7ab024",
   "metadata": {},
   "outputs": [
    {
     "name": "stdout",
     "output_type": "stream",
     "text": [
      "The original list is : [1, 2, 7, 6, 3, 5, 6, 1]\n",
      "The list after removing duplicates : [1, 2, 7, 6, 3, 5]\n"
     ]
    }
   ],
   "source": [
    "\"\"\"\n",
    "15. Implement a code to find and remove duplicates from a list while preserving the original order of elements\n",
    "\"\"\"\n",
    "lis = [1, 2, 7, 6, 3, 5, 6, 1]\n",
    "print(\"The original list is : \"+ str(lis))\n",
    "res = []\n",
    "for x in lis:\n",
    "    if x not in res:\n",
    "        res.append(x) \n",
    "print (\"The list after removing duplicates : \"\n",
    "       + str(res))"
   ]
  },
  {
   "cell_type": "code",
   "execution_count": 108,
   "id": "56c65fe3-8dc2-425e-829f-78dc3cf77906",
   "metadata": {},
   "outputs": [
    {
     "name": "stdout",
     "output_type": "stream",
     "text": [
      "No, List is not sorted.\n"
     ]
    }
   ],
   "source": [
    "\"\"\"\n",
    "16. create a code to check if a given list is sorted ( either in ascending or descending order) or not\n",
    "\"\"\"\n",
    "list1 = [10,2,3,4,5]\n",
    "list_copy = list1[:]\n",
    "list_copy.sort()\n",
    "if (list1 == list_copy):\n",
    "   print(\"Yes, List is sorted.\")\n",
    "else:\n",
    "   print(\"No, List is not sorted.\")"
   ]
  },
  {
   "cell_type": "code",
   "execution_count": 134,
   "id": "10f3c737-9fa1-4056-9e28-4e9d52fc95f1",
   "metadata": {},
   "outputs": [
    {
     "name": "stdout",
     "output_type": "stream",
     "text": [
      "The sorted list is , [2, 3, 4, 5, 10, 20, 30, 40, 50]\n"
     ]
    }
   ],
   "source": [
    "\"\"\"17. Write a code to merge two sorted lists into a single sorted list.\n",
    "\"\"\"\n",
    "list1 = [10,2,3,4,5]\n",
    "list2=[20,30,40,50]\n",
    "list3=sorted(list1+list2)\n",
    "print(\"The sorted list is ,\", list3)\n"
   ]
  },
  {
   "cell_type": "code",
   "execution_count": 138,
   "id": "78398d29-1daf-4841-8484-a28340789d6c",
   "metadata": {},
   "outputs": [
    {
     "name": "stdout",
     "output_type": "stream",
     "text": [
      "[30, 40]\n"
     ]
    }
   ],
   "source": [
    "\"\"\"\n",
    "18. implewment a code to find the intersection of two given lists\n",
    "\"\"\"\n",
    "list1 = [10,2,30,40,5]\n",
    "list2=[20,30,40,50]\n",
    "intersected_list = []\n",
    "for element in list1:\n",
    "    if element in list2:\n",
    "      intersected_list.append(element)\n",
    "print(intersected_list)"
   ]
  },
  {
   "cell_type": "code",
   "execution_count": 142,
   "id": "2cc12268-2e4a-447a-8965-0c1e9dd3586f",
   "metadata": {},
   "outputs": [
    {
     "name": "stdout",
     "output_type": "stream",
     "text": [
      "[1, 2, 3, 4, 5, 6, 10]\n"
     ]
    }
   ],
   "source": [
    "\"\"\"\n",
    "19. Create a code to find the union of two lists without duplicates\n",
    "\"\"\"\n",
    "list1 = [1, 2, 3,10]\n",
    "list2 = [3, 4, 5, 6,10]\n",
    "merged_list = list(set(list1 + list2))\n",
    "print(merged_list) "
   ]
  },
  {
   "cell_type": "code",
   "execution_count": 155,
   "id": "65bb7ca6-231c-4b41-a70e-75e26758678d",
   "metadata": {},
   "outputs": [
    {
     "name": "stdout",
     "output_type": "stream",
     "text": [
      "[2, 4, 3, 34, 1, 1, 5]\n"
     ]
    }
   ],
   "source": [
    "\"\"\"\n",
    "20. Write a code to shuffle a given list randomly without using any built in shuffle functions\n",
    "\"\"\"\n",
    "import random\n",
    "lst=[1,2,34,4,5,1,3] \n",
    "n = len(lst) \n",
    "for i in range(n): \n",
    "    rand=random.randint(i,n-1)\n",
    "    lst[i], lst[rand] = lst[rand], lst[i] \n",
    "    \n",
    "print(lst)\n"
   ]
  },
  {
   "cell_type": "code",
   "execution_count": 3,
   "id": "c310fe36-ec55-436d-adf4-fbedcec2bd95",
   "metadata": {},
   "outputs": [
    {
     "name": "stdout",
     "output_type": "stream",
     "text": [
      "(3, 4, 5)\n"
     ]
    }
   ],
   "source": [
    "\"\"\"21.\n",
    "write a code that takes two tupples as input and returns a new tuple containing elements that are common to both input tuples\n",
    "\"\"\"\n",
    "t1= (1, 2, 3, 4, 5)\n",
    "t2 = (3, 4, 5, 6, 7)\n",
    "set1=set(t1)\n",
    "set2=set(t2)\n",
    "set_inter=set1.intersection(set2)\n",
    "print(tuple(set_inter))\n"
   ]
  },
  {
   "cell_type": "code",
   "execution_count": 4,
   "id": "d53381a5-1f7f-4a9c-bc12-e2edd5ace695",
   "metadata": {},
   "outputs": [
    {
     "name": "stdout",
     "output_type": "stream",
     "text": [
      "{3, 4, 5}\n"
     ]
    }
   ],
   "source": [
    "\"\"\"\n",
    "22. Create a code that prompts the user to enter two sets of integers separated by commas, Then, print the intersection of these two sets\n",
    "\"\"\"\n",
    "t1= (1, 2, 3, 4, 5)\n",
    "t2 = (3, 4, 5, 6, 7)\n",
    "set1=set(t1)\n",
    "set2=set(t2)\n",
    "set_inter=set1.intersection(set2)\n",
    "print((set_inter))"
   ]
  },
  {
   "cell_type": "code",
   "execution_count": 16,
   "id": "f71dd658-8204-40e0-a184-e45f3efeb9cd",
   "metadata": {},
   "outputs": [
    {
     "name": "stdout",
     "output_type": "stream",
     "text": [
      "('a', 'b', 'c', 1, 2, 3)\n"
     ]
    }
   ],
   "source": [
    "\"\"\"\n",
    "23. Write a code to concatenate two tupples. The funciton should take two tuples as input and return a new tuple containing elements from both input tuples\n",
    "\"\"\"\n",
    "tuple1 = (\"a\", \"b\" , \"c\")\n",
    "tuple2 = (1, 2, 3)\n",
    "\n",
    "tuple3 = tuple1 + tuple2\n",
    "print(tuple3)"
   ]
  },
  {
   "cell_type": "code",
   "execution_count": 17,
   "id": "50e54739-3f32-4994-846f-58eba3d8a4ee",
   "metadata": {},
   "outputs": [
    {
     "name": "stdin",
     "output_type": "stream",
     "text": [
      "Enter a set : {1,2,3}\n",
      "Enter a 2nd set : {2,4,5}\n"
     ]
    },
    {
     "name": "stdout",
     "output_type": "stream",
     "text": [
      "{'1', '3'}\n"
     ]
    }
   ],
   "source": [
    "\"\"\"\n",
    "24. Develop a code that prompts the user to input two sets of strings, then print the emelements that are present in \n",
    "the first set but not in the second set?\n",
    "\"\"\"\n",
    "s1= set(input(\"Enter a set :\"))\n",
    "s2= set(input(\"Enter a 2nd set :\"))\n",
    "s3=s1-s2\n",
    "print(s3)"
   ]
  },
  {
   "cell_type": "code",
   "execution_count": 18,
   "id": "846fb300-c904-4685-990d-31fea7e75379",
   "metadata": {},
   "outputs": [
    {
     "data": {
      "text/plain": [
       "'\\n25. Create a code that takes a tuple and two integers as input. The function should return a new tuple containing elemnets from\\nthe original tuple within the specified range of indices.\\n'"
      ]
     },
     "execution_count": 18,
     "metadata": {},
     "output_type": "execute_result"
    }
   ],
   "source": [
    "\"\"\"\n",
    "25. Create a code that takes a tuple and two integers as input. The function should return a new tuple containing elemnets from\n",
    "the original tuple within the specified range of indices.\n",
    "\"\"\"\n",
    "\n"
   ]
  },
  {
   "cell_type": "code",
   "execution_count": 20,
   "id": "98a21c90-3d46-451f-8848-8dcd447c07b4",
   "metadata": {},
   "outputs": [
    {
     "name": "stdin",
     "output_type": "stream",
     "text": [
      "Enter the tupple of characters abcd\n",
      "Enter the tupple of characters efgh\n"
     ]
    },
    {
     "name": "stdout",
     "output_type": "stream",
     "text": [
      "{'d', 'f', 'e', 'b', 'g', 'a', 'h', 'c'}\n"
     ]
    }
   ],
   "source": [
    "\"\"\"\n",
    "26. Write a code that prompts the user to input two sets of characters. then print the union of these two sets\n",
    "\"\"\"\n",
    "x = input(\"Enter the tupple of characters\")\n",
    "y = input(\"Enter the tupple of characters\")\n",
    "z = set(x).union(set(y))\n",
    "print(z)"
   ]
  },
  {
   "cell_type": "code",
   "execution_count": 29,
   "id": "7c053308-356e-4939-8745-1d1c7ba6a335",
   "metadata": {},
   "outputs": [
    {
     "name": "stdout",
     "output_type": "stream",
     "text": [
      "Minimum value of Tuple : 1\n",
      "Maximum Value of Tuple : 7\n"
     ]
    }
   ],
   "source": [
    "\"\"\"\n",
    "27. DEvelp a code that takes tuple of integers as input. The function should return the maximum and minimum values from the tuple using tuple unpacking\n",
    "\"\"\"\n",
    "t1=(1,2,3,4)\n",
    "t2=(4,5,6,7)\n",
    "t3=(t1+t2)\n",
    "print(\"Minimum value of Tuple :\",min(t3))\n",
    "print(\"Maximum Value of Tuple :\",max(t3))"
   ]
  },
  {
   "cell_type": "code",
   "execution_count": 38,
   "id": "ecc1ac68-5257-4cb6-b4fc-bb20caa2fbe7",
   "metadata": {},
   "outputs": [
    {
     "name": "stdout",
     "output_type": "stream",
     "text": [
      "Union of two sets is :  {1, 2, 4, 5, 6}\n",
      "Intersection of two sets is:  {1, 2, 4, 5, 6}\n",
      "The difference of two sets is:  set()\n"
     ]
    }
   ],
   "source": [
    "\"\"\"\n",
    "29. Create a code that defines two sets of integers. Then print the union , intersection and difference of these two sets\n",
    "\"\"\"\n",
    "s1={1,2,4,5,6}\n",
    "s2={4,5,6,2,1}\n",
    "print(\"Union of two sets is : \", s1.union(s2))\n",
    "print(\"Intersection of two sets is: \",s1.intersection(s2))\n",
    "print(\"The difference of two sets is: \", s1-s2)\n"
   ]
  },
  {
   "cell_type": "code",
   "execution_count": 40,
   "id": "8ca3d11f-8203-45c0-8e89-a1b53d075863",
   "metadata": {},
   "outputs": [
    {
     "name": "stdout",
     "output_type": "stream",
     "text": [
      " The symmetric difference is :  {'d', 'b', 'c', 'a'}\n"
     ]
    }
   ],
   "source": [
    "\"\"\"\n",
    "30. DEvelop a code that prompts the user to input two sets of strings. Then print the symmetric difference of these two sets?\n",
    "\"\"\"\n",
    "s1={\"a\",\"b\",\"c\",\"a\"}\n",
    "s2={\"c\",\"a\",\"b\",\"d\"}\n",
    "print(\" The symmetric difference is : \", s1 and s2)"
   ]
  },
  {
   "cell_type": "code",
   "execution_count": 45,
   "id": "0ecbb73c-65e0-411e-8c5e-bc4dd9f7e285",
   "metadata": {},
   "outputs": [
    {
     "name": "stdout",
     "output_type": "stream",
     "text": [
      " 1 :  5\n",
      " 5 :  2\n",
      " 3 :  3\n",
      " 4 :  3\n",
      " 2 :  4\n"
     ]
    }
   ],
   "source": [
    "\"\"\"\n",
    "31. Write a code that takes a list of words as input and retruns a dictionary where the keys are unique words and the values \n",
    "are the frequencies of those words in the input list\n",
    "\"\"\"\n",
    "my_list = [1, 1, 1, 5, 5, 3, 1, 3, 3, 1, 4, 4, 4, 2, 2, 2, 2]\n",
    "freq = {}\n",
    "for item in my_list:\n",
    "    if (item in freq):\n",
    "        freq[item] += 1\n",
    "    else:\n",
    "        freq[item] = 1\n",
    "for key, value in freq.items():\n",
    "    print(\"% d : % d\" % (key, value))"
   ]
  },
  {
   "cell_type": "code",
   "execution_count": 54,
   "id": "2977a83d-b78b-4f02-9a08-b4f65e4946d9",
   "metadata": {},
   "outputs": [
    {
     "name": "stdout",
     "output_type": "stream",
     "text": [
      "{'a': 400, 'b': 400}\n"
     ]
    }
   ],
   "source": [
    "\"\"\"\n",
    "32. Write a code that takes two dictionaries as input and merges them  into a single directory. If there are commmon keys, the values should be \n",
    "added together\n",
    "\"\"\"\n",
    "d1 = {'a': 100, 'b': 200, 'c':300}\n",
    "d2 = {'a': 300, 'b': 200, 'd':400}\n",
    "d3 = {}\n",
    "for i, j in d1.items():\n",
    "    for x, y in d2.items():\n",
    "        if i == x:\n",
    "            d3[i]=(j+y)\n",
    "print(d3)\n"
   ]
  },
  {
   "cell_type": "code",
   "execution_count": 57,
   "id": "a2c71f31-6a6b-4065-866e-74be0c874ba8",
   "metadata": {},
   "outputs": [
    {
     "data": {
      "text/plain": [
       "'\\n33. Write a code to access a value in a nested dictionary. The function should take the dictionary and a list of keys as input, and return the corresponding values\\nif any of the keys do not exist in the dictionary, the function should return none\\n'"
      ]
     },
     "execution_count": 57,
     "metadata": {},
     "output_type": "execute_result"
    }
   ],
   "source": [
    "\"\"\"\n",
    "33. Write a code to access a value in a nested dictionary. The function should take the dictionary and a list of keys as input, and return the corresponding values\n",
    "if any of the keys do not exist in the dictionary, the function should return none\n",
    "\"\"\"\n",
    "\n",
    "        \n",
    "\n"
   ]
  },
  {
   "cell_type": "code",
   "execution_count": 59,
   "id": "e1475d60-f960-43da-9628-a096514d3cb3",
   "metadata": {},
   "outputs": [
    {
     "name": "stdout",
     "output_type": "stream",
     "text": [
      "{'rajnish': 9, 'ravi': 10, 'sanjeev': 15}\n"
     ]
    }
   ],
   "source": [
    "\"\"\"\n",
    "34. Write a code that takes a dictionary as input and retuns a sorted version of it based on the values. You can choose whether to sort in ascendeing\n",
    "or descending order\n",
    "\"\"\"\n",
    "d = {'ravi': 10, 'rajnish': 9, 'sanjeev': 15}\n",
    "myKeys = list(d.keys())\n",
    "myKeys.sort()\n",
    "sd = {i: d[i] for i in myKeys}\n",
    "print(sd)"
   ]
  },
  {
   "cell_type": "code",
   "execution_count": 60,
   "id": "1ae17067-a39c-45b6-a2c6-2c32412f795f",
   "metadata": {},
   "outputs": [
    {
     "data": {
      "text/plain": [
       "'\\n35. Write a code aht inverts a dictionary, swapping keys and values. Ensure that the inverted dictionary correctly handles cases where multiple keys have the same value byu sorting the keys as a li\\nlist in teh inverted dictionary\\n'"
      ]
     },
     "execution_count": 60,
     "metadata": {},
     "output_type": "execute_result"
    }
   ],
   "source": [
    "\"\"\"\n",
    "35. Write a code aht inverts a dictionary, swapping keys and values. Ensure that the inverted dictionary correctly handles cases where multiple keys have the same value byu sorting the keys as a li\n",
    "list in teh inverted dictionary\n",
    "\"\"\""
   ]
  },
  {
   "cell_type": "code",
   "execution_count": null,
   "id": "cba4941a-e71c-4416-8159-80abc0f42476",
   "metadata": {},
   "outputs": [],
   "source": []
  }
 ],
 "metadata": {
  "kernelspec": {
   "display_name": "Python 3 (ipykernel)",
   "language": "python",
   "name": "python3"
  },
  "language_info": {
   "codemirror_mode": {
    "name": "ipython",
    "version": 3
   },
   "file_extension": ".py",
   "mimetype": "text/x-python",
   "name": "python",
   "nbconvert_exporter": "python",
   "pygments_lexer": "ipython3",
   "version": "3.12.6"
  }
 },
 "nbformat": 4,
 "nbformat_minor": 5
}
